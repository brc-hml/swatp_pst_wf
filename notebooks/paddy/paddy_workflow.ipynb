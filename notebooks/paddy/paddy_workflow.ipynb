{
 "cells": [
  {
   "cell_type": "code",
   "execution_count": 1,
   "id": "13115d33-d473-4483-93fc-244dca22b3a4",
   "metadata": {},
   "outputs": [],
   "source": [
    "from swatp_pst import handler"
   ]
  },
  {
   "cell_type": "code",
   "execution_count": 7,
   "id": "e8c1529b-46e2-4b28-917e-b8f77ce7f5a6",
   "metadata": {},
   "outputs": [],
   "source": [
    "wd  = \"D:\\\\Projects\\\\Arun\\\\TxtInOut - backup\""
   ]
  },
  {
   "cell_type": "code",
   "execution_count": 8,
   "id": "c3535a34-0287-4c4b-af30-8c2d8029465d",
   "metadata": {},
   "outputs": [],
   "source": [
    "m1 = handler.Paddy(wd)"
   ]
  },
  {
   "cell_type": "code",
   "execution_count": 10,
   "id": "e247f7b7-d1d5-49e5-b1c2-647db4f5ae46",
   "metadata": {},
   "outputs": [
    {
     "name": "stdout",
     "output_type": "stream",
     "text": [
      " > Creating 'backup' folder in working directory ...\n",
      " > Creating 'backup' folder in working directory ...\u001b[32m passed\u001b[0m\n",
      " >>> hru-data.hru file is overwritten successfully!\n",
      " >>> file.cio file is overwritten successfully!\n",
      " >>> initial.res file is overwritten successfully!\n",
      "['irr.ops:', 'name', 'sprinkler_med', 'sprinkler_high', 'drip', 'furrow']\n",
      " >>> irr.ops file is overwritten successfully!\n",
      "['tswi_lum', 'rice140_lum', 'tfoe_lum', 'tcrw_lum', 'urmd_lum', 'tric_lum', 'tcrg_lum', 'wetw_lum', 'tshr_lum', 'tfdw_lum', 'tgra_lum', 'tfod_lum', 'tagr_lum', 'tfne_lum', 'tfom_lum', 'tsav_lum']\n",
      " >>> landuse.lum file is overwritten successfully!\n",
      "['tswi_comm', 'tswi', 'rice140_comm', 'rice140', 'tfoe_comm', 'tfoe', 'tcrw_comm', 'tcrw', 'tric_comm', 'tric', 'tcrg_comm', 'tcrg', 'wetw_comm', 'wetw', 'tshr_comm', 'tshr', 'tfdw_comm', 'tfdw', 'tgra_comm', 'tgra', 'tfod_comm', 'tfod', 'tagr_comm', 'tagr', 'tfne_comm', 'tfne', 'tfom_comm', 'tfom', 'tsav_comm', 'tsav']\n",
      " >>> plant.ini file is overwritten successfully!\n",
      " >>> hydrology.hyd file is overwritten successfully!\n",
      " >>> 'weir.res' file already exist ...\u001b[32m passed\u001b[0m\n",
      " >>> 'puddle.ops' file copied ...\u001b[32m passed\u001b[0m\n"
     ]
    }
   ],
   "source": [
    "m1.conv_paddy()"
   ]
  },
  {
   "cell_type": "code",
   "execution_count": null,
   "id": "0a399a26-8b9e-4b4e-ae86-8ae3750787fb",
   "metadata": {},
   "outputs": [],
   "source": []
  }
 ],
 "metadata": {
  "kernelspec": {
   "display_name": "Python 3 (ipykernel)",
   "language": "python",
   "name": "python3"
  },
  "language_info": {
   "codemirror_mode": {
    "name": "ipython",
    "version": 3
   },
   "file_extension": ".py",
   "mimetype": "text/x-python",
   "name": "python",
   "nbconvert_exporter": "python",
   "pygments_lexer": "ipython3",
   "version": "3.11.9"
  }
 },
 "nbformat": 4,
 "nbformat_minor": 5
}
