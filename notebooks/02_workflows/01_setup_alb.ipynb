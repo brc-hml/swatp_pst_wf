{
 "cells": [
  {
   "cell_type": "markdown",
   "id": "1cc50204",
   "metadata": {},
   "source": [
    "# 01. Let's import necessary libraries"
   ]
  },
  {
   "cell_type": "code",
   "execution_count": null,
   "id": "848f2a87",
   "metadata": {},
   "outputs": [],
   "source": [
    "import os\n",
    "import shutil\n",
    "import warnings\n",
    "warnings.filterwarnings(\"ignore\")\n",
    "warnings.filterwarnings(\"ignore\", category=DeprecationWarning) \n",
    "import pandas as pd\n",
    "import numpy as np\n",
    "import matplotlib.pyplot as plt;\n",
    "import psutil\n",
    "\n",
    "import sys\n",
    "import pyemu\n",
    "import swatp_pst\n",
    "assert \"dependencies\" in pyemu.__file__\n",
    "assert \"dependencies\" in swatp_pst.__file__"
   ]
  },
  {
   "cell_type": "code",
   "execution_count": null,
   "id": "ee2bbe29-0dbd-4ced-87de-12af1c3ad22b",
   "metadata": {},
   "outputs": [],
   "source": [
    "swatp_pst.__version__"
   ]
  },
  {
   "cell_type": "markdown",
   "id": "3bd2a9ae",
   "metadata": {},
   "source": [
    "# 00. provide infos"
   ]
  },
  {
   "cell_type": "code",
   "execution_count": null,
   "id": "addce63c",
   "metadata": {},
   "outputs": [],
   "source": [
    "# working directory for mac\n",
    "# prj_dir = \"/Users/seonggyu.park/Documents/projects/jj_test\"\n",
    "# swatp_wd = \"/Users/seonggyu.park/Documents/projects/tools/swatp_pst_wf/models/TxtInOut_Imsil_rye_rot_r1\""
   ]
  },
  {
   "cell_type": "code",
   "execution_count": null,
   "id": "fe261d1a",
   "metadata": {},
   "outputs": [],
   "source": [
    "# working directory for win\n",
    "prj_dir = \"D:\\\\Projects\\\\Watersheds\\\\Albufera\\\\2nd\\\\opt01\"\n",
    "swatp_wd = \"D:\\\\Projects\\\\Watersheds\\\\Albufera\\\\2nd\\\\main_opt\""
   ]
  },
  {
   "cell_type": "code",
   "execution_count": null,
   "id": "ede31bb9",
   "metadata": {},
   "outputs": [],
   "source": [
    "# calibration period\n",
    "cal_start = '1/1/2016'\n",
    "cal_end = '12/31/2023'\n",
    "# time step\n",
    "time_step = 'day'\n",
    "# locations (what our targets)\n",
    "chs = [49]\n",
    "stf_obd_file = \"cha49_observed.csv\"\n",
    "stf_obd_colnam = \"cha049\"\n",
    "irr_obd_file = \"irr_paddy_mon.obd.csv\"\n",
    "irr_obd_colnam = \"obd_irr_paddy\""
   ]
  },
  {
   "cell_type": "markdown",
   "id": "8c220242",
   "metadata": {},
   "source": [
    "# 01. inital setup"
   ]
  },
  {
   "cell_type": "code",
   "execution_count": null,
   "id": "8fa35c62-0721-43af-8283-45d4e8b3908f",
   "metadata": {},
   "outputs": [],
   "source": [
    "from swatp_pst import handler"
   ]
  },
  {
   "cell_type": "code",
   "execution_count": null,
   "id": "951f752d",
   "metadata": {},
   "outputs": [],
   "source": [
    "# copy all necessary files (exes) to your working direcotry\n",
    "handler.init_setup(prj_dir, swatp_wd)"
   ]
  },
  {
   "cell_type": "code",
   "execution_count": null,
   "id": "cb19ed27",
   "metadata": {},
   "outputs": [],
   "source": [
    "os.getcwd()"
   ]
  },
  {
   "cell_type": "code",
   "execution_count": null,
   "id": "09007a5e-cba3-4238-aace-099dd1d8e6a4",
   "metadata": {},
   "outputs": [],
   "source": [
    "# create swatp_con file\n",
    "handler.create_swatp_pst_con(\n",
    "    prj_dir, swatp_wd, cal_start, cal_end, chs,\n",
    "    irr_cal=irr_obd_file,\n",
    "    time_step=time_step)"
   ]
  },
  {
   "cell_type": "code",
   "execution_count": null,
   "id": "e7fdcc40",
   "metadata": {},
   "outputs": [],
   "source": [
    "os.getcwd()"
   ]
  },
  {
   "cell_type": "code",
   "execution_count": null,
   "id": "0b6e6a07",
   "metadata": {},
   "outputs": [],
   "source": [
    "wd = os.getcwd()"
   ]
  },
  {
   "cell_type": "markdown",
   "id": "ac4903cf-247a-4929-8e4f-14570fde674e",
   "metadata": {},
   "source": [
    "### Let's do initial run!"
   ]
  },
  {
   "cell_type": "code",
   "execution_count": null,
   "id": "020a5af8-2116-4529-94a2-a23242ddd501",
   "metadata": {},
   "outputs": [],
   "source": [
    "## you need to run the model first if outputs do not exit.\n",
    "pyemu.os_utils.run(r\"swatplus.exe\", cwd=\".\")"
   ]
  },
  {
   "cell_type": "markdown",
   "id": "18db09eb",
   "metadata": {},
   "source": [
    "# 02. Build template files"
   ]
  },
  {
   "cell_type": "code",
   "execution_count": null,
   "id": "5c5148d0",
   "metadata": {},
   "outputs": [],
   "source": [
    "from swatp_pst.pst_utils import PstUtil"
   ]
  },
  {
   "cell_type": "code",
   "execution_count": null,
   "id": "a6e17645",
   "metadata": {},
   "outputs": [],
   "source": [
    "m1 = PstUtil(os.path.join(prj_dir, \"main_opt\"))"
   ]
  },
  {
   "cell_type": "code",
   "execution_count": null,
   "id": "9a8815bc",
   "metadata": {},
   "outputs": [],
   "source": [
    "m1.cal_to_tpl_file()"
   ]
  },
  {
   "cell_type": "markdown",
   "id": "8f0eb2b2",
   "metadata": {},
   "source": [
    "# 03. Build instruction files"
   ]
  },
  {
   "cell_type": "code",
   "execution_count": null,
   "id": "7c13ae4e",
   "metadata": {},
   "outputs": [],
   "source": [
    "# extract output first\n",
    "m1.get_mon_irr()"
   ]
  },
  {
   "cell_type": "markdown",
   "id": "140b82da",
   "metadata": {},
   "source": [
    "## 03.01 irrigation"
   ]
  },
  {
   "cell_type": "code",
   "execution_count": null,
   "id": "2439ccf0",
   "metadata": {},
   "outputs": [],
   "source": [
    "m1.irr_obd_to_ins(\"tot_irr_paddy.txt\", irr_obd_file, 'obd_irr_paddy', cal_start, cal_end)"
   ]
  },
  {
   "cell_type": "markdown",
   "id": "969bad80",
   "metadata": {},
   "source": [
    "## 03.02 streamflow"
   ]
  },
  {
   "cell_type": "code",
   "execution_count": null,
   "id": "0ea81583-d2d9-4952-998d-aeac95071c2b",
   "metadata": {},
   "outputs": [],
   "source": [
    "m1.extract_day_stf(chs, cal_start, cal_end)"
   ]
  },
  {
   "cell_type": "code",
   "execution_count": null,
   "id": "4aab074d",
   "metadata": {},
   "outputs": [],
   "source": [
    "m1.stf_obd_to_ins('stf_049.txt', stf_obd_file, stf_obd_colnam, cal_start, cal_end)"
   ]
  },
  {
   "cell_type": "markdown",
   "id": "ff674ea0",
   "metadata": {},
   "source": [
    "# 04. Create PEST control file"
   ]
  },
  {
   "cell_type": "code",
   "execution_count": null,
   "id": "b8710e4f",
   "metadata": {},
   "outputs": [],
   "source": [
    "os.getcwd()"
   ]
  },
  {
   "cell_type": "code",
   "execution_count": null,
   "id": "61efa9f4",
   "metadata": {},
   "outputs": [],
   "source": [
    "io_files = pyemu.helpers.parse_dir_for_io_files('.')\n",
    "pst = pyemu.Pst.from_io_files(*io_files)"
   ]
  },
  {
   "cell_type": "code",
   "execution_count": null,
   "id": "db69059b",
   "metadata": {},
   "outputs": [],
   "source": [
    "par = pst.parameter_data\n",
    "par"
   ]
  },
  {
   "cell_type": "code",
   "execution_count": null,
   "id": "a6fccdf8-55c0-4e50-ab1c-3061881456f7",
   "metadata": {},
   "outputs": [],
   "source": [
    "obd = pst.observation_data\n",
    "obd"
   ]
  },
  {
   "cell_type": "markdown",
   "id": "19afbee2",
   "metadata": {},
   "source": [
    "## 05.02 Adjust initial parameter values and their ranges"
   ]
  },
  {
   "cell_type": "code",
   "execution_count": null,
   "id": "9d62c9df-7740-4cf6-953f-19d7e1172c88",
   "metadata": {},
   "outputs": [],
   "source": [
    "# manual"
   ]
  },
  {
   "cell_type": "markdown",
   "id": "6d487bbc",
   "metadata": {},
   "source": [
    "## 05.03 Assign parameter group name"
   ]
  },
  {
   "cell_type": "code",
   "execution_count": null,
   "id": "22b93418",
   "metadata": {},
   "outputs": [],
   "source": [
    "# set observation group\n",
    "obd = pst.observation_data\n",
    "obd"
   ]
  },
  {
   "cell_type": "code",
   "execution_count": null,
   "id": "78f4acaf",
   "metadata": {},
   "outputs": [],
   "source": [
    "# Change obd group name\n",
    "for i in range(len(obd)):\n",
    "    obd.iloc[i, 3] = obd.iloc[i, 0][:-9]\n",
    "obd"
   ]
  },
  {
   "cell_type": "markdown",
   "id": "9c68a859",
   "metadata": {},
   "source": [
    "## 05.04 Provide actual observed values to control file"
   ]
  },
  {
   "cell_type": "code",
   "execution_count": null,
   "id": "41d4fde8",
   "metadata": {},
   "outputs": [],
   "source": [
    "# let's do manually"
   ]
  },
  {
   "cell_type": "markdown",
   "id": "617e031f",
   "metadata": {},
   "source": [
    "# 06. Create the control file with settings"
   ]
  },
  {
   "cell_type": "markdown",
   "id": "a1da8190-0fd6-4556-b799-50f5b2f06193",
   "metadata": {},
   "source": [
    "We can inspect all control data values using the `pst.control_data.formatted_values` attribute. Values are assigned defaults if not specified. Nice.:"
   ]
  },
  {
   "cell_type": "code",
   "execution_count": null,
   "id": "a41cc3a0-c66c-49df-954c-8a9696322347",
   "metadata": {},
   "outputs": [],
   "source": [
    "pst.control_data.formatted_values"
   ]
  },
  {
   "cell_type": "code",
   "execution_count": null,
   "id": "e91330b7",
   "metadata": {},
   "outputs": [],
   "source": [
    "pst.control_data.noptmax = 0 # replace 0 with \"zero\" and see what happens\n",
    "pst.model_command = 'python forward_run.py'"
   ]
  },
  {
   "cell_type": "markdown",
   "id": "ea292069-80e8-453b-9459-c2556d513358",
   "metadata": {},
   "source": [
    "- ### add new PEST++ variables like so:"
   ]
  },
  {
   "cell_type": "code",
   "execution_count": null,
   "id": "1fd0fb95-3fb9-4fcc-8f34-283414f91446",
   "metadata": {},
   "outputs": [],
   "source": [
    "# check the dictionary again\n",
    "pst.pestpp_options"
   ]
  },
  {
   "cell_type": "code",
   "execution_count": null,
   "id": "fcc3a4cd",
   "metadata": {},
   "outputs": [],
   "source": [
    "pst.write('alb_pst_dummy.pst', version=2)"
   ]
  },
  {
   "cell_type": "markdown",
   "id": "d7994e0f-c25e-41ec-89a6-ce3e64f3f719",
   "metadata": {},
   "source": [
    "- ### You can also read and load the existing pest control file."
   ]
  },
  {
   "cell_type": "code",
   "execution_count": null,
   "id": "3ea71e6d-76b1-4279-805f-0f2adfdeeddc",
   "metadata": {},
   "outputs": [],
   "source": [
    "# pst_read = pyemu.Pst(os.path.join(swatmf_model,\"mb_zon.pst\"))"
   ]
  },
  {
   "cell_type": "code",
   "execution_count": null,
   "id": "b20d8ef8-5bc0-4273-a3d9-1bb05635752b",
   "metadata": {},
   "outputs": [],
   "source": [
    "pst_read.parameter_data"
   ]
  },
  {
   "cell_type": "code",
   "execution_count": null,
   "id": "c2feeeee-d88a-4003-89aa-3825ec0d1aa1",
   "metadata": {},
   "outputs": [],
   "source": []
  }
 ],
 "metadata": {
  "kernelspec": {
   "display_name": "Python 3 (ipykernel)",
   "language": "python",
   "name": "python3"
  },
  "language_info": {
   "codemirror_mode": {
    "name": "ipython",
    "version": 3
   },
   "file_extension": ".py",
   "mimetype": "text/x-python",
   "name": "python",
   "nbconvert_exporter": "python",
   "pygments_lexer": "ipython3",
   "version": "3.11.9"
  }
 },
 "nbformat": 4,
 "nbformat_minor": 5
}
