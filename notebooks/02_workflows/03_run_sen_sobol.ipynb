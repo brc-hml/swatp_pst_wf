{
 "cells": [
  {
   "cell_type": "markdown",
   "metadata": {},
   "source": [
    "# Run PEST and Parallel PEST\n",
    "### This should be super easy ~"
   ]
  },
  {
   "cell_type": "code",
   "execution_count": 1,
   "metadata": {},
   "outputs": [],
   "source": [
    "import os\n",
    "import shutil\n",
    "import warnings\n",
    "warnings.filterwarnings(\"ignore\")\n",
    "warnings.filterwarnings(\"ignore\", category=DeprecationWarning) \n",
    "import pandas as pd\n",
    "import numpy as np\n",
    "import matplotlib.pyplot as plt;\n",
    "import psutil\n",
    "import sys\n",
    "import pyemu\n",
    "import flopy\n",
    "import swatp_pst\n",
    "assert \"dependencies\" in flopy.__file__\n",
    "assert \"dependencies\" in pyemu.__file__\n",
    "assert \"dependencies\" in swatp_pst.__file__"
   ]
  },
  {
   "cell_type": "markdown",
   "metadata": {},
   "source": [
    "# 01. Specify a path to the model folder"
   ]
  },
  {
   "cell_type": "code",
   "execution_count": 2,
   "metadata": {},
   "outputs": [],
   "source": [
    "# path to project directory\n",
    "prj_dir = \"D:\\\\spark\\\\jj\\\\albufera\\\\opt_01\" # win\n"
   ]
  },
  {
   "cell_type": "code",
   "execution_count": 3,
   "metadata": {},
   "outputs": [],
   "source": [
    "main_opt_path = os.path.join(prj_dir, 'main_opt')\n",
    "os.chdir(main_opt_path)"
   ]
  },
  {
   "cell_type": "code",
   "execution_count": 4,
   "metadata": {},
   "outputs": [
    {
     "data": {
      "text/plain": [
       "'D:\\\\spark\\\\jj\\\\albufera\\\\opt_01\\\\main_opt'"
      ]
     },
     "execution_count": 4,
     "metadata": {},
     "output_type": "execute_result"
    }
   ],
   "source": [
    "os.getcwd()"
   ]
  },
  {
   "cell_type": "markdown",
   "metadata": {},
   "source": [
    "# 02. Perform GSA"
   ]
  },
  {
   "cell_type": "code",
   "execution_count": 25,
   "metadata": {},
   "outputs": [],
   "source": [
    "# pst_sen = pyemu.Pst(os.path.join(main_opt_path,\"swatp_nw_ies.pst\"))\n",
    "# pst_sen.write('swatp_nw_sen.pst', version=2) # write new IES control file"
   ]
  },
  {
   "cell_type": "code",
   "execution_count": 5,
   "metadata": {},
   "outputs": [
    {
     "data": {
      "text/plain": [
       "'D:\\\\spark\\\\jj\\\\albufera\\\\opt_01\\\\main_opt'"
      ]
     },
     "execution_count": 5,
     "metadata": {},
     "output_type": "execute_result"
    }
   ],
   "source": [
    "os.getcwd()"
   ]
  },
  {
   "cell_type": "code",
   "execution_count": 6,
   "metadata": {},
   "outputs": [
    {
     "name": "stdout",
     "output_type": "stream",
     "text": [
      "noptmax:0, npar_adj:13, nnz_obs:35\n"
     ]
    }
   ],
   "source": [
    "pst_sen2 = pyemu.Pst(os.path.join(main_opt_path,\"alb_pst_dummy.pst\"))\n",
    "# pst_sen2.control_data.formatted_values\n",
    "pst_sen2.pestpp_options[\"gsa_method\"] = \"sobol\"\n",
    "pst_sen2.pestpp_options[\"gsa_sobol_samples\"] = 1500\n",
    "# pst_sen2.pestpp_options[\"gsa_sobol_par_dist\"] = \"unif\"\n",
    "# pst_sen2.pestpp_options['ies_num_reals'] = 200 # number of realization\n",
    "\n",
    "pst_sen2.write('alb_nw_sen_sobol.pst', version=2) # write new IES control file"
   ]
  },
  {
   "cell_type": "code",
   "execution_count": 7,
   "metadata": {},
   "outputs": [],
   "source": [
    "# set a path to the main directory of model\n",
    "m_d = os.path.join(prj_dir, \"alb_nw_sen_sobol\")"
   ]
  },
  {
   "cell_type": "code",
   "execution_count": null,
   "metadata": {},
   "outputs": [],
   "source": [
    "os.chdir(prj_dir) # move the loction to project directory\n",
    "# run PEST in parallel\n",
    "pyemu.os_utils.start_workers(\n",
    "                            main_opt_path, # the folder which contains the \"template\" PEST dataset\n",
    "                            \"pestpp-sen\", #the PEST software version we want to run\n",
    "                            'alb_nw_sen_sobol.pst', # the control file to use with PEST\n",
    "                            num_workers=num_workers, #how many agents to deploy\n",
    "                            worker_root='.', #where to deploy the agent directories; relative to where python is running\n",
    "                            master_dir=m_d, #the manager directory,\n",
    "                            # reuse_master=True\n",
    "                            )"
   ]
  },
  {
   "cell_type": "markdown",
   "metadata": {},
   "source": [
    "# 03. Let's see how we did:"
   ]
  },
  {
   "cell_type": "code",
   "execution_count": 17,
   "metadata": {},
   "outputs": [],
   "source": [
    "pst_name = 'swatp_nw_sen_sobol.pst'"
   ]
  },
  {
   "cell_type": "code",
   "execution_count": 18,
   "metadata": {},
   "outputs": [
    {
     "data": {
      "text/plain": [
       "'D:\\\\spark\\\\jj\\\\opt_3rd\\\\swatp_nw_sen_sobol'"
      ]
     },
     "execution_count": 18,
     "metadata": {},
     "output_type": "execute_result"
    }
   ],
   "source": [
    "m_d"
   ]
  },
  {
   "cell_type": "code",
   "execution_count": null,
   "metadata": {},
   "outputs": [],
   "source": [
    "os.chdir(m_d)\n",
    "df = pd.read_csv(os.path.join(m_d,pst_name.replace(\".pst\",\".msn\")), index_col='parameter_name')\n",
    "df.head()"
   ]
  },
  {
   "cell_type": "code",
   "execution_count": 20,
   "metadata": {},
   "outputs": [
    {
     "ename": "NameError",
     "evalue": "name 'df' is not defined",
     "output_type": "error",
     "traceback": [
      "\u001b[1;31m---------------------------------------------------------------------------\u001b[0m",
      "\u001b[1;31mNameError\u001b[0m                                 Traceback (most recent call last)",
      "Cell \u001b[1;32mIn[20], line 1\u001b[0m\n\u001b[1;32m----> 1\u001b[0m df \u001b[38;5;241m=\u001b[39m \u001b[43mdf\u001b[49m\u001b[38;5;241m.\u001b[39mloc[df\u001b[38;5;241m.\u001b[39msen_mean_abs\u001b[38;5;241m>\u001b[39m\u001b[38;5;241m1e-6\u001b[39m,:]\n\u001b[0;32m      2\u001b[0m df\u001b[38;5;241m.\u001b[39mloc[:,[\u001b[38;5;124m\"\u001b[39m\u001b[38;5;124msen_mean_abs\u001b[39m\u001b[38;5;124m\"\u001b[39m,\u001b[38;5;124m\"\u001b[39m\u001b[38;5;124msen_std_dev\u001b[39m\u001b[38;5;124m\"\u001b[39m]]\u001b[38;5;241m.\u001b[39mplot(kind\u001b[38;5;241m=\u001b[39m\u001b[38;5;124m\"\u001b[39m\u001b[38;5;124mbar\u001b[39m\u001b[38;5;124m\"\u001b[39m, figsize\u001b[38;5;241m=\u001b[39m(\u001b[38;5;241m13\u001b[39m,\u001b[38;5;241m4\u001b[39m))\n\u001b[0;32m      3\u001b[0m \u001b[38;5;66;03m#ax = plt.gca()\u001b[39;00m\n\u001b[0;32m      4\u001b[0m \u001b[38;5;66;03m#ax.set_ylim(1,ax.get_ylim()[1]*1.1)\u001b[39;00m\n",
      "\u001b[1;31mNameError\u001b[0m: name 'df' is not defined"
     ]
    }
   ],
   "source": [
    "\n",
    "df = df.loc[df.sen_mean_abs>1e-6,:]\n",
    "df.loc[:,[\"sen_mean_abs\",\"sen_std_dev\"]].plot(kind=\"bar\", figsize=(13,4))\n",
    "#ax = plt.gca()\n",
    "#ax.set_ylim(1,ax.get_ylim()[1]*1.1)\n",
    "plt.yscale('log');\n",
    "fig,ax = plt.subplots(1,1,figsize=(13,8))\n",
    "tmp_df = df\n",
    "ax.scatter(tmp_df.sen_mean_abs,tmp_df.sen_std_dev,marker=\"^\",s=20,c=\"r\")\n",
    "tmp_df = tmp_df.iloc[:8]\n",
    "for x,y,n in zip(tmp_df.sen_mean_abs,tmp_df.sen_std_dev,tmp_df.index):\n",
    "    ax.text(x,y,n)\n",
    "mx = max(ax.get_xlim()[1],ax.get_ylim()[1])\n",
    "mn = min(ax.get_xlim()[0],ax.get_ylim()[0])\n",
    "ax.plot([mn,mx],[mn,mx],\"k--\")\n",
    "ax.set_ylim(mn,mx)\n",
    "ax.set_xlim(mn,mx)\n",
    "ax.grid()\n",
    "ax.set_ylabel(\"σ\")\n",
    "ax.set_xlabel(\"μ\")\n",
    "ax.tick_params(axis='both', labelsize=12)\n",
    "plt.legend(\n",
    "    fontsize=12, \n",
    "#     loc=\"lower left\"\n",
    ")\n",
    "plt.tight_layout()"
   ]
  },
  {
   "cell_type": "code",
   "execution_count": null,
   "metadata": {},
   "outputs": [],
   "source": [
    "# plot 1 to 1\n",
    "figs = pst.plot(kind=\"1to1\")"
   ]
  },
  {
   "cell_type": "code",
   "execution_count": null,
   "metadata": {},
   "outputs": [],
   "source": [
    "# plot phi progress\n",
    "pyemu.plot_utils.phi_progress(pst)"
   ]
  },
  {
   "cell_type": "code",
   "execution_count": null,
   "metadata": {},
   "outputs": [],
   "source": []
  }
 ],
 "metadata": {
  "kernelspec": {
   "display_name": "Python 3 (ipykernel)",
   "language": "python",
   "name": "python3"
  },
  "language_info": {
   "codemirror_mode": {
    "name": "ipython",
    "version": 3
   },
   "file_extension": ".py",
   "mimetype": "text/x-python",
   "name": "python",
   "nbconvert_exporter": "python",
   "pygments_lexer": "ipython3",
   "version": "3.10.13"
  }
 },
 "nbformat": 4,
 "nbformat_minor": 4
}
