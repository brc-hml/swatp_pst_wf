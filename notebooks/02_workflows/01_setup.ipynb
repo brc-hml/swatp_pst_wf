{
 "cells": [
  {
   "cell_type": "markdown",
   "id": "1cc50204",
   "metadata": {},
   "source": [
    "# 01. Let's import necessary libraries"
   ]
  },
  {
   "cell_type": "code",
   "execution_count": 1,
   "id": "848f2a87",
   "metadata": {},
   "outputs": [],
   "source": [
    "import os\n",
    "import shutil\n",
    "import warnings\n",
    "warnings.filterwarnings(\"ignore\")\n",
    "warnings.filterwarnings(\"ignore\", category=DeprecationWarning) \n",
    "import pandas as pd\n",
    "import numpy as np\n",
    "import matplotlib.pyplot as plt;\n",
    "import psutil\n",
    "\n",
    "import sys\n",
    "import pyemu\n",
    "import flopy\n",
    "import swatp_pst\n",
    "assert \"dependencies\" in flopy.__file__\n",
    "assert \"dependencies\" in pyemu.__file__\n",
    "assert \"dependencies\" in swatp_pst.__file__"
   ]
  },
  {
   "cell_type": "code",
   "execution_count": 2,
   "id": "ee2bbe29-0dbd-4ced-87de-12af1c3ad22b",
   "metadata": {},
   "outputs": [
    {
     "data": {
      "text/plain": [
       "'0.0.0.dev0'"
      ]
     },
     "execution_count": 2,
     "metadata": {},
     "output_type": "execute_result"
    }
   ],
   "source": [
    "swatp_pst.__version__"
   ]
  },
  {
   "cell_type": "markdown",
   "id": "3bd2a9ae",
   "metadata": {},
   "source": [
    "# 00. provide infos"
   ]
  },
  {
   "cell_type": "code",
   "execution_count": 7,
   "id": "addce63c",
   "metadata": {},
   "outputs": [],
   "source": [
    "# working directory for mac\n",
    "# prj_dir = \"/Users/seonggyu.park/Documents/projects/jj_test\"\n",
    "# swatp_wd = \"/Users/seonggyu.park/Documents/projects/tools/swatp_pst_wf/models/TxtInOut_Imsil_rye_rot_r1\""
   ]
  },
  {
   "cell_type": "code",
   "execution_count": 7,
   "id": "d231b130",
   "metadata": {},
   "outputs": [],
   "source": [
    "# working directory for win\n",
    "prj_dir = \"/Users/seonggyu.park/Documents/projects/jj_test\"\n",
    "swatp_wd = \"/Users/seonggyu.park/Documents/projects/tools/swatp_pst_wf/models/TxtInOut_Imsil_rye_rot_r1\""
   ]
  },
  {
   "cell_type": "code",
   "execution_count": 8,
   "id": "ede31bb9",
   "metadata": {},
   "outputs": [],
   "source": [
    "# calibration period\n",
    "cal_start = '1/1/2013'\n",
    "cal_end = '12/31/2023'\n",
    "# time step\n",
    "time_step = 'month'\n",
    "# locations (what our targets)\n",
    "channels = [1]\n",
    "obd_file = \"singi_obs_q1_colnam.csv\"\n",
    "obd_colnam = [\"cha01\"]"
   ]
  },
  {
   "cell_type": "markdown",
   "id": "8c220242",
   "metadata": {},
   "source": [
    "# 01. inital setup"
   ]
  },
  {
   "cell_type": "code",
   "execution_count": 9,
   "id": "8fa35c62-0721-43af-8283-45d4e8b3908f",
   "metadata": {},
   "outputs": [],
   "source": [
    "from swatp_pst import handler"
   ]
  },
  {
   "cell_type": "code",
   "execution_count": 12,
   "id": "951f752d",
   "metadata": {},
   "outputs": [
    {
     "name": "stdout",
     "output_type": "stream",
     "text": [
      " Creating 'main_opt' folder in working directory ...\r"
     ]
    },
    {
     "name": "stderr",
     "output_type": "stream",
     "text": [
      "/Users/seonggyu.park/miniconda3/envs/swatp_pst_wf/lib/python3.12/site-packages/tqdm/std.py:580: DeprecationWarning: datetime.datetime.utcfromtimestamp() is deprecated and scheduled for removal in a future version. Use timezone-aware objects to represent datetimes in UTC: datetime.datetime.fromtimestamp(timestamp, datetime.UTC).\n",
      "100%|█████████████████████████████████████████| 160/160 [00:01<00:00, 96.85it/s]"
     ]
    },
    {
     "name": "stdout",
     "output_type": "stream",
     "text": [
      " Creating 'main_opt' folder ...\u001b[32m passed\u001b[0m\n",
      " 'i64pwtadj1.exe' file copied ...\u001b[32m passed\u001b[0m\n",
      " 'pestpp-glm.exe' file copied ...\u001b[32m passed\u001b[0m\n",
      " 'pestpp-ies.exe' file copied ...\u001b[32m passed\u001b[0m\n",
      " 'pestpp-opt.exe' file copied ...\u001b[32m passed\u001b[0m\n",
      " 'pestpp-sen.exe' file copied ...\u001b[32m passed\u001b[0m\n",
      " 'forward_run.py' file copied ...\u001b[32m passed\u001b[0m\n",
      "path to main_opt folder: /Users/seonggyu.park/Documents/projects/jj_test/main_opt\n"
     ]
    },
    {
     "name": "stderr",
     "output_type": "stream",
     "text": [
      "\n"
     ]
    }
   ],
   "source": [
    "# copy all necessary files (exes) to your working direcotry\n",
    "handler.init_setup(prj_dir, swatp_wd)"
   ]
  },
  {
   "cell_type": "code",
   "execution_count": 14,
   "id": "09007a5e-cba3-4238-aace-099dd1d8e6a4",
   "metadata": {},
   "outputs": [
    {
     "data": {
      "text/html": [
       "<div>\n",
       "<style scoped>\n",
       "    .dataframe tbody tr th:only-of-type {\n",
       "        vertical-align: middle;\n",
       "    }\n",
       "\n",
       "    .dataframe tbody tr th {\n",
       "        vertical-align: top;\n",
       "    }\n",
       "\n",
       "    .dataframe thead th {\n",
       "        text-align: right;\n",
       "    }\n",
       "</style>\n",
       "<table border=\"1\" class=\"dataframe\">\n",
       "  <thead>\n",
       "    <tr style=\"text-align: right;\">\n",
       "      <th></th>\n",
       "      <th>names</th>\n",
       "      <th>vals</th>\n",
       "    </tr>\n",
       "  </thead>\n",
       "  <tbody>\n",
       "    <tr>\n",
       "      <th>0</th>\n",
       "      <td>prj_dir</td>\n",
       "      <td>/Users/seonggyu.park/Documents/projects/jj_test</td>\n",
       "    </tr>\n",
       "    <tr>\n",
       "      <th>1</th>\n",
       "      <td>swatp_wd</td>\n",
       "      <td>/Users/seonggyu.park/Documents/projects/tools/swatp_pst_wf/models/TxtInOut_Imsil_rye_rot_r1</td>\n",
       "    </tr>\n",
       "    <tr>\n",
       "      <th>2</th>\n",
       "      <td>cal_start</td>\n",
       "      <td>1/1/2013</td>\n",
       "    </tr>\n",
       "    <tr>\n",
       "      <th>3</th>\n",
       "      <td>cal_end</td>\n",
       "      <td>12/31/2023</td>\n",
       "    </tr>\n",
       "    <tr>\n",
       "      <th>4</th>\n",
       "      <td>channels</td>\n",
       "      <td>[1]</td>\n",
       "    </tr>\n",
       "    <tr>\n",
       "      <th>5</th>\n",
       "      <td>time_step</td>\n",
       "      <td>month</td>\n",
       "    </tr>\n",
       "  </tbody>\n",
       "</table>\n",
       "</div>"
      ],
      "text/plain": [
       "       names  \\\n",
       "0    prj_dir   \n",
       "1   swatp_wd   \n",
       "2  cal_start   \n",
       "3    cal_end   \n",
       "4   channels   \n",
       "5  time_step   \n",
       "\n",
       "                                                                                          vals  \n",
       "0                                              /Users/seonggyu.park/Documents/projects/jj_test  \n",
       "1  /Users/seonggyu.park/Documents/projects/tools/swatp_pst_wf/models/TxtInOut_Imsil_rye_rot_r1  \n",
       "2                                                                                     1/1/2013  \n",
       "3                                                                                   12/31/2023  \n",
       "4                                                                                          [1]  \n",
       "5                                                                                        month  "
      ]
     },
     "execution_count": 14,
     "metadata": {},
     "output_type": "execute_result"
    }
   ],
   "source": [
    "# create swatp_con file\n",
    "handler.create_swatp_pst_con(\n",
    "    prj_dir, swatp_wd, cal_start, cal_end, channels, time_step=time_step)"
   ]
  },
  {
   "cell_type": "code",
   "execution_count": 16,
   "id": "0b6e6a07",
   "metadata": {},
   "outputs": [],
   "source": [
    "wd = os.getcwd()"
   ]
  },
  {
   "cell_type": "markdown",
   "id": "ac4903cf-247a-4929-8e4f-14570fde674e",
   "metadata": {},
   "source": [
    "### Let's do initial run!"
   ]
  },
  {
   "cell_type": "code",
   "execution_count": 20,
   "id": "020a5af8-2116-4529-94a2-a23242ddd501",
   "metadata": {},
   "outputs": [],
   "source": [
    "# you need to run the model first if outputs do not exit.\n",
    "# pyemu.os_utils.run(r\"swatplus.exe\", cwd=\".\")"
   ]
  },
  {
   "cell_type": "markdown",
   "id": "18db09eb",
   "metadata": {},
   "source": [
    "# 02. Build template files"
   ]
  },
  {
   "cell_type": "code",
   "execution_count": 17,
   "id": "5c5148d0",
   "metadata": {},
   "outputs": [],
   "source": [
    "from swatp_pst.pst_utils import PstUtil"
   ]
  },
  {
   "cell_type": "code",
   "execution_count": 18,
   "id": "a6e17645",
   "metadata": {},
   "outputs": [],
   "source": [
    "m1 = PstUtil(wd)"
   ]
  },
  {
   "cell_type": "code",
   "execution_count": 19,
   "id": "9a8815bc",
   "metadata": {},
   "outputs": [
    {
     "data": {
      "text/html": [
       "<div>\n",
       "<style scoped>\n",
       "    .dataframe tbody tr th:only-of-type {\n",
       "        vertical-align: middle;\n",
       "    }\n",
       "\n",
       "    .dataframe tbody tr th {\n",
       "        vertical-align: top;\n",
       "    }\n",
       "\n",
       "    .dataframe thead th {\n",
       "        text-align: right;\n",
       "    }\n",
       "</style>\n",
       "<table border=\"1\" class=\"dataframe\">\n",
       "  <thead>\n",
       "    <tr style=\"text-align: right;\">\n",
       "      <th></th>\n",
       "      <th>cal_parm</th>\n",
       "      <th>chg_typ</th>\n",
       "      <th>chg_val</th>\n",
       "      <th>conds</th>\n",
       "      <th>soil_lyr1</th>\n",
       "      <th>soil_lyr2</th>\n",
       "      <th>yr1</th>\n",
       "      <th>yr2</th>\n",
       "      <th>day1</th>\n",
       "      <th>day2</th>\n",
       "      <th>obj_tot</th>\n",
       "    </tr>\n",
       "    <tr>\n",
       "      <th>cal_parm</th>\n",
       "      <th></th>\n",
       "      <th></th>\n",
       "      <th></th>\n",
       "      <th></th>\n",
       "      <th></th>\n",
       "      <th></th>\n",
       "      <th></th>\n",
       "      <th></th>\n",
       "      <th></th>\n",
       "      <th></th>\n",
       "      <th></th>\n",
       "    </tr>\n",
       "  </thead>\n",
       "  <tbody>\n",
       "    <tr>\n",
       "      <th>cn2</th>\n",
       "      <td>cn2</td>\n",
       "      <td>pctchg</td>\n",
       "      <td>~   cn2               ~</td>\n",
       "      <td>0</td>\n",
       "      <td>0</td>\n",
       "      <td>0</td>\n",
       "      <td>0</td>\n",
       "      <td>0</td>\n",
       "      <td>0</td>\n",
       "      <td>0</td>\n",
       "      <td>0</td>\n",
       "    </tr>\n",
       "    <tr>\n",
       "      <th>awc</th>\n",
       "      <td>awc</td>\n",
       "      <td>pctchg</td>\n",
       "      <td>~   awc               ~</td>\n",
       "      <td>0</td>\n",
       "      <td>0</td>\n",
       "      <td>0</td>\n",
       "      <td>0</td>\n",
       "      <td>0</td>\n",
       "      <td>0</td>\n",
       "      <td>0</td>\n",
       "      <td>0</td>\n",
       "    </tr>\n",
       "    <tr>\n",
       "      <th>surlag</th>\n",
       "      <td>surlag</td>\n",
       "      <td>absval</td>\n",
       "      <td>~   surlag            ~</td>\n",
       "      <td>0</td>\n",
       "      <td>0</td>\n",
       "      <td>0</td>\n",
       "      <td>0</td>\n",
       "      <td>0</td>\n",
       "      <td>0</td>\n",
       "      <td>0</td>\n",
       "      <td>0</td>\n",
       "    </tr>\n",
       "    <tr>\n",
       "      <th>alpha</th>\n",
       "      <td>alpha</td>\n",
       "      <td>absval</td>\n",
       "      <td>~   alpha             ~</td>\n",
       "      <td>0</td>\n",
       "      <td>0</td>\n",
       "      <td>0</td>\n",
       "      <td>0</td>\n",
       "      <td>0</td>\n",
       "      <td>0</td>\n",
       "      <td>0</td>\n",
       "      <td>0</td>\n",
       "    </tr>\n",
       "    <tr>\n",
       "      <th>esco</th>\n",
       "      <td>esco</td>\n",
       "      <td>absval</td>\n",
       "      <td>~   esco              ~</td>\n",
       "      <td>0</td>\n",
       "      <td>0</td>\n",
       "      <td>0</td>\n",
       "      <td>0</td>\n",
       "      <td>0</td>\n",
       "      <td>0</td>\n",
       "      <td>0</td>\n",
       "      <td>0</td>\n",
       "    </tr>\n",
       "  </tbody>\n",
       "</table>\n",
       "</div>"
      ],
      "text/plain": [
       "         cal_parm chg_typ                   chg_val  conds  soil_lyr1  \\\n",
       "cal_parm                                                                \n",
       "cn2           cn2  pctchg   ~   cn2               ~      0          0   \n",
       "awc           awc  pctchg   ~   awc               ~      0          0   \n",
       "surlag     surlag  absval   ~   surlag            ~      0          0   \n",
       "alpha       alpha  absval   ~   alpha             ~      0          0   \n",
       "esco         esco  absval   ~   esco              ~      0          0   \n",
       "\n",
       "          soil_lyr2  yr1  yr2  day1  day2  obj_tot  \n",
       "cal_parm                                            \n",
       "cn2               0    0    0     0     0        0  \n",
       "awc               0    0    0     0     0        0  \n",
       "surlag            0    0    0     0     0        0  \n",
       "alpha             0    0    0     0     0        0  \n",
       "esco              0    0    0     0     0        0  "
      ]
     },
     "execution_count": 19,
     "metadata": {},
     "output_type": "execute_result"
    }
   ],
   "source": [
    "m1.cal_to_tpl_file()"
   ]
  },
  {
   "cell_type": "markdown",
   "id": "8f0eb2b2",
   "metadata": {},
   "source": [
    "# 03. Build instruction files"
   ]
  },
  {
   "cell_type": "code",
   "execution_count": 21,
   "id": "7c13ae4e",
   "metadata": {},
   "outputs": [
    {
     "name": "stdout",
     "output_type": "stream",
     "text": [
      "stf_001.txt file has been created...\n",
      "Finished ...\n"
     ]
    }
   ],
   "source": [
    "# extract output first\n",
    "# m1 = SWATpOut(wd)\n",
    "m1.extract_mon_stf(channels, cal_start, cal_end)"
   ]
  },
  {
   "cell_type": "code",
   "execution_count": 22,
   "id": "2439ccf0",
   "metadata": {},
   "outputs": [
    {
     "name": "stdout",
     "output_type": "stream",
     "text": [
      "stf_001.txt.ins file has been created...\n"
     ]
    },
    {
     "data": {
      "text/plain": [
       "date\n",
       "2013-01-31    l1 w !cha01_20130131!\n",
       "2013-02-28    l1 w !cha01_20130228!\n",
       "2013-03-31    l1 w !cha01_20130331!\n",
       "2013-04-30    l1 w !cha01_20130430!\n",
       "2013-05-31    l1 w !cha01_20130531!\n",
       "                      ...          \n",
       "2023-08-31    l1 w !cha01_20230831!\n",
       "2023-09-30    l1 w !cha01_20230930!\n",
       "2023-10-31    l1 w !cha01_20231031!\n",
       "2023-11-30    l1 w !cha01_20231130!\n",
       "2023-12-31                       l1\n",
       "Freq: ME, Name: cha01_ins, Length: 132, dtype: object"
      ]
     },
     "execution_count": 22,
     "metadata": {},
     "output_type": "execute_result"
    }
   ],
   "source": [
    "# m1.stf_obd_to_ins('stf_058.txt', 'rch058',cal_start, cal_end)\n",
    "m1.stf_obd_to_ins(\"stf_001.txt\", obd_file, obd_colnam, cal_start, cal_end)"
   ]
  },
  {
   "cell_type": "markdown",
   "id": "ff674ea0",
   "metadata": {},
   "source": [
    "# 04. Create PEST control file"
   ]
  },
  {
   "cell_type": "code",
   "execution_count": 23,
   "id": "61efa9f4",
   "metadata": {},
   "outputs": [
    {
     "name": "stdout",
     "output_type": "stream",
     "text": [
      "error using inschek for instruction file stf_001.txt.ins:run() returned non-zero: 127\n",
      "observations in this instruction file will havegeneric values.\n"
     ]
    },
    {
     "name": "stderr",
     "output_type": "stream",
     "text": [
      "sh: inschek: command not found\n"
     ]
    }
   ],
   "source": [
    "io_files = pyemu.helpers.parse_dir_for_io_files('.')\n",
    "pst = pyemu.Pst.from_io_files(*io_files)"
   ]
  },
  {
   "cell_type": "code",
   "execution_count": 24,
   "id": "db69059b",
   "metadata": {},
   "outputs": [
    {
     "data": {
      "text/html": [
       "<div>\n",
       "<style scoped>\n",
       "    .dataframe tbody tr th:only-of-type {\n",
       "        vertical-align: middle;\n",
       "    }\n",
       "\n",
       "    .dataframe tbody tr th {\n",
       "        vertical-align: top;\n",
       "    }\n",
       "\n",
       "    .dataframe thead th {\n",
       "        text-align: right;\n",
       "    }\n",
       "</style>\n",
       "<table border=\"1\" class=\"dataframe\">\n",
       "  <thead>\n",
       "    <tr style=\"text-align: right;\">\n",
       "      <th></th>\n",
       "      <th>parnme</th>\n",
       "      <th>partrans</th>\n",
       "      <th>parchglim</th>\n",
       "      <th>parval1</th>\n",
       "      <th>parlbnd</th>\n",
       "      <th>parubnd</th>\n",
       "      <th>pargp</th>\n",
       "      <th>scale</th>\n",
       "      <th>offset</th>\n",
       "      <th>dercom</th>\n",
       "    </tr>\n",
       "  </thead>\n",
       "  <tbody>\n",
       "    <tr>\n",
       "      <th>alpha</th>\n",
       "      <td>alpha</td>\n",
       "      <td>log</td>\n",
       "      <td>factor</td>\n",
       "      <td>1.0</td>\n",
       "      <td>1.100000e-10</td>\n",
       "      <td>1.100000e+10</td>\n",
       "      <td>pargp</td>\n",
       "      <td>1.0</td>\n",
       "      <td>0.0</td>\n",
       "      <td>1</td>\n",
       "    </tr>\n",
       "    <tr>\n",
       "      <th>awc</th>\n",
       "      <td>awc</td>\n",
       "      <td>log</td>\n",
       "      <td>factor</td>\n",
       "      <td>1.0</td>\n",
       "      <td>1.100000e-10</td>\n",
       "      <td>1.100000e+10</td>\n",
       "      <td>pargp</td>\n",
       "      <td>1.0</td>\n",
       "      <td>0.0</td>\n",
       "      <td>1</td>\n",
       "    </tr>\n",
       "    <tr>\n",
       "      <th>cn2</th>\n",
       "      <td>cn2</td>\n",
       "      <td>log</td>\n",
       "      <td>factor</td>\n",
       "      <td>1.0</td>\n",
       "      <td>1.100000e-10</td>\n",
       "      <td>1.100000e+10</td>\n",
       "      <td>pargp</td>\n",
       "      <td>1.0</td>\n",
       "      <td>0.0</td>\n",
       "      <td>1</td>\n",
       "    </tr>\n",
       "    <tr>\n",
       "      <th>esco</th>\n",
       "      <td>esco</td>\n",
       "      <td>log</td>\n",
       "      <td>factor</td>\n",
       "      <td>1.0</td>\n",
       "      <td>1.100000e-10</td>\n",
       "      <td>1.100000e+10</td>\n",
       "      <td>pargp</td>\n",
       "      <td>1.0</td>\n",
       "      <td>0.0</td>\n",
       "      <td>1</td>\n",
       "    </tr>\n",
       "    <tr>\n",
       "      <th>surlag</th>\n",
       "      <td>surlag</td>\n",
       "      <td>log</td>\n",
       "      <td>factor</td>\n",
       "      <td>1.0</td>\n",
       "      <td>1.100000e-10</td>\n",
       "      <td>1.100000e+10</td>\n",
       "      <td>pargp</td>\n",
       "      <td>1.0</td>\n",
       "      <td>0.0</td>\n",
       "      <td>1</td>\n",
       "    </tr>\n",
       "  </tbody>\n",
       "</table>\n",
       "</div>"
      ],
      "text/plain": [
       "        parnme partrans parchglim  parval1       parlbnd       parubnd  pargp  \\\n",
       "alpha    alpha      log    factor      1.0  1.100000e-10  1.100000e+10  pargp   \n",
       "awc        awc      log    factor      1.0  1.100000e-10  1.100000e+10  pargp   \n",
       "cn2        cn2      log    factor      1.0  1.100000e-10  1.100000e+10  pargp   \n",
       "esco      esco      log    factor      1.0  1.100000e-10  1.100000e+10  pargp   \n",
       "surlag  surlag      log    factor      1.0  1.100000e-10  1.100000e+10  pargp   \n",
       "\n",
       "        scale  offset  dercom  \n",
       "alpha     1.0     0.0       1  \n",
       "awc       1.0     0.0       1  \n",
       "cn2       1.0     0.0       1  \n",
       "esco      1.0     0.0       1  \n",
       "surlag    1.0     0.0       1  "
      ]
     },
     "execution_count": 24,
     "metadata": {},
     "output_type": "execute_result"
    }
   ],
   "source": [
    "par = pst.parameter_data\n",
    "par"
   ]
  },
  {
   "cell_type": "code",
   "execution_count": 25,
   "id": "a6fccdf8-55c0-4e50-ab1c-3061881456f7",
   "metadata": {},
   "outputs": [
    {
     "data": {
      "text/html": [
       "<div>\n",
       "<style scoped>\n",
       "    .dataframe tbody tr th:only-of-type {\n",
       "        vertical-align: middle;\n",
       "    }\n",
       "\n",
       "    .dataframe tbody tr th {\n",
       "        vertical-align: top;\n",
       "    }\n",
       "\n",
       "    .dataframe thead th {\n",
       "        text-align: right;\n",
       "    }\n",
       "</style>\n",
       "<table border=\"1\" class=\"dataframe\">\n",
       "  <thead>\n",
       "    <tr style=\"text-align: right;\">\n",
       "      <th></th>\n",
       "      <th>obsnme</th>\n",
       "      <th>obsval</th>\n",
       "      <th>weight</th>\n",
       "      <th>obgnme</th>\n",
       "    </tr>\n",
       "  </thead>\n",
       "  <tbody>\n",
       "    <tr>\n",
       "      <th>cha01_20130131</th>\n",
       "      <td>cha01_20130131</td>\n",
       "      <td>1.000000e+10</td>\n",
       "      <td>1.0</td>\n",
       "      <td>obgnme</td>\n",
       "    </tr>\n",
       "    <tr>\n",
       "      <th>cha01_20130228</th>\n",
       "      <td>cha01_20130228</td>\n",
       "      <td>1.000000e+10</td>\n",
       "      <td>1.0</td>\n",
       "      <td>obgnme</td>\n",
       "    </tr>\n",
       "    <tr>\n",
       "      <th>cha01_20130331</th>\n",
       "      <td>cha01_20130331</td>\n",
       "      <td>1.000000e+10</td>\n",
       "      <td>1.0</td>\n",
       "      <td>obgnme</td>\n",
       "    </tr>\n",
       "    <tr>\n",
       "      <th>cha01_20130430</th>\n",
       "      <td>cha01_20130430</td>\n",
       "      <td>1.000000e+10</td>\n",
       "      <td>1.0</td>\n",
       "      <td>obgnme</td>\n",
       "    </tr>\n",
       "    <tr>\n",
       "      <th>cha01_20130531</th>\n",
       "      <td>cha01_20130531</td>\n",
       "      <td>1.000000e+10</td>\n",
       "      <td>1.0</td>\n",
       "      <td>obgnme</td>\n",
       "    </tr>\n",
       "    <tr>\n",
       "      <th>...</th>\n",
       "      <td>...</td>\n",
       "      <td>...</td>\n",
       "      <td>...</td>\n",
       "      <td>...</td>\n",
       "    </tr>\n",
       "    <tr>\n",
       "      <th>cha01_20230731</th>\n",
       "      <td>cha01_20230731</td>\n",
       "      <td>1.000000e+10</td>\n",
       "      <td>1.0</td>\n",
       "      <td>obgnme</td>\n",
       "    </tr>\n",
       "    <tr>\n",
       "      <th>cha01_20230831</th>\n",
       "      <td>cha01_20230831</td>\n",
       "      <td>1.000000e+10</td>\n",
       "      <td>1.0</td>\n",
       "      <td>obgnme</td>\n",
       "    </tr>\n",
       "    <tr>\n",
       "      <th>cha01_20230930</th>\n",
       "      <td>cha01_20230930</td>\n",
       "      <td>1.000000e+10</td>\n",
       "      <td>1.0</td>\n",
       "      <td>obgnme</td>\n",
       "    </tr>\n",
       "    <tr>\n",
       "      <th>cha01_20231031</th>\n",
       "      <td>cha01_20231031</td>\n",
       "      <td>1.000000e+10</td>\n",
       "      <td>1.0</td>\n",
       "      <td>obgnme</td>\n",
       "    </tr>\n",
       "    <tr>\n",
       "      <th>cha01_20231130</th>\n",
       "      <td>cha01_20231130</td>\n",
       "      <td>1.000000e+10</td>\n",
       "      <td>1.0</td>\n",
       "      <td>obgnme</td>\n",
       "    </tr>\n",
       "  </tbody>\n",
       "</table>\n",
       "<p>124 rows × 4 columns</p>\n",
       "</div>"
      ],
      "text/plain": [
       "                        obsnme        obsval  weight  obgnme\n",
       "cha01_20130131  cha01_20130131  1.000000e+10     1.0  obgnme\n",
       "cha01_20130228  cha01_20130228  1.000000e+10     1.0  obgnme\n",
       "cha01_20130331  cha01_20130331  1.000000e+10     1.0  obgnme\n",
       "cha01_20130430  cha01_20130430  1.000000e+10     1.0  obgnme\n",
       "cha01_20130531  cha01_20130531  1.000000e+10     1.0  obgnme\n",
       "...                        ...           ...     ...     ...\n",
       "cha01_20230731  cha01_20230731  1.000000e+10     1.0  obgnme\n",
       "cha01_20230831  cha01_20230831  1.000000e+10     1.0  obgnme\n",
       "cha01_20230930  cha01_20230930  1.000000e+10     1.0  obgnme\n",
       "cha01_20231031  cha01_20231031  1.000000e+10     1.0  obgnme\n",
       "cha01_20231130  cha01_20231130  1.000000e+10     1.0  obgnme\n",
       "\n",
       "[124 rows x 4 columns]"
      ]
     },
     "execution_count": 25,
     "metadata": {},
     "output_type": "execute_result"
    }
   ],
   "source": [
    "obd = pst.observation_data\n",
    "obd"
   ]
  },
  {
   "cell_type": "markdown",
   "id": "19afbee2",
   "metadata": {},
   "source": [
    "## 05.02 Adjust initial parameter values and their ranges"
   ]
  },
  {
   "cell_type": "code",
   "execution_count": null,
   "id": "9d62c9df-7740-4cf6-953f-19d7e1172c88",
   "metadata": {},
   "outputs": [],
   "source": [
    "par = m1.update_par(par)"
   ]
  },
  {
   "cell_type": "markdown",
   "id": "ed279c0d",
   "metadata": {},
   "source": [
    "## 05.01 Assign parameter group name"
   ]
  },
  {
   "cell_type": "code",
   "execution_count": null,
   "id": "352c1249",
   "metadata": {},
   "outputs": [],
   "source": [
    "# for i in range(len(par)):\n",
    "#     if (par.iloc[i, 0][:2]) == 'sy':\n",
    "#         par.iloc[i, 6] = 'sy'\n",
    "#     elif par.iloc[i, 0][:7] == 'rivbot_':\n",
    "#         par.iloc[i, 6] = 'rivbot'\n",
    "#     elif par.iloc[i, 0][:6] == 'rivcd_':\n",
    "#         par.iloc[i, 6] = 'rivcd'\n",
    "#     elif par.iloc[i, 0][:2] == 'hk':\n",
    "#         par.iloc[i, 6] = 'hk'\n",
    "#     else:\n",
    "#         par.iloc[i, 6] = 'swat'\n",
    "# print(par)"
   ]
  },
  {
   "cell_type": "code",
   "execution_count": null,
   "id": "61297566",
   "metadata": {},
   "outputs": [],
   "source": [
    "count = 0\n",
    "for i in range(len(par)):\n",
    "    if (par.iloc[i, 6] == 'hk'):\n",
    "        par.iloc[i, 3] = 1  \n",
    "        par.iloc[i, 4] = 1.000000e-02\n",
    "        par.iloc[i, 5] = 1.000000e+02\n",
    "    elif (par.iloc[i, 6] == 'sy'):\n",
    "        par.iloc[i, 3] = 1.000000e-02       \n",
    "        par.iloc[i, 4] = 1.000000e-04\n",
    "        par.iloc[i, 5] = 0.6  \n",
    "    elif (par.iloc[i, 6] == 'rivbot'):\n",
    "        par.iloc[i, 3] = 3.001     \n",
    "        par.iloc[i, 4] = 0.001\n",
    "        par.iloc[i, 5] = 6\n",
    "        par.iloc[i, 8] = -3\n",
    "    elif (par.iloc[i, 6] == 'rivcd'):\n",
    "        par.iloc[i, 3] = 50.001       \n",
    "        par.iloc[i, 4] = 0.001\n",
    "        par.iloc[i, 5] = 100\n",
    "        par.iloc[i, 8] = -50\n",
    "    else:\n",
    "        count += 1\n",
    "count"
   ]
  },
  {
   "cell_type": "code",
   "execution_count": null,
   "id": "0a328615",
   "metadata": {},
   "outputs": [],
   "source": [
    "# CN2\n",
    "par.loc['cn2', 'parval1'] = 1.001\n",
    "par.loc['cn2', 'parlbnd'] = 0.8\n",
    "par.loc['cn2', 'parubnd'] = 1.2\n",
    "par.loc['cn2', 'offset'] = -1\n",
    "\n",
    "# ESCO\n",
    "par.loc['esco', 'parval1'] = 1.001\n",
    "par.loc['esco', 'parlbnd'] = 0.5\n",
    "par.loc['esco', 'parubnd'] = 1.5\n",
    "par.loc['esco', 'offset'] = -1\n",
    "\n",
    "# sol_awc()\n",
    "par.loc['sol_awc()', 'parval1'] = 1.001\n",
    "par.loc['sol_awc()', 'parlbnd'] = 0.5\n",
    "par.loc['sol_awc()', 'parubnd'] = 1.5\n",
    "par.loc['sol_awc()', 'offset'] = -1\n"
   ]
  },
  {
   "cell_type": "markdown",
   "id": "6d487bbc",
   "metadata": {},
   "source": [
    "## 05.03 Assign parameter group name"
   ]
  },
  {
   "cell_type": "code",
   "execution_count": 17,
   "id": "22b93418",
   "metadata": {},
   "outputs": [
    {
     "data": {
      "text/html": [
       "<div>\n",
       "<style scoped>\n",
       "    .dataframe tbody tr th:only-of-type {\n",
       "        vertical-align: middle;\n",
       "    }\n",
       "\n",
       "    .dataframe tbody tr th {\n",
       "        vertical-align: top;\n",
       "    }\n",
       "\n",
       "    .dataframe thead th {\n",
       "        text-align: right;\n",
       "    }\n",
       "</style>\n",
       "<table border=\"1\" class=\"dataframe\">\n",
       "  <thead>\n",
       "    <tr style=\"text-align: right;\">\n",
       "      <th></th>\n",
       "      <th>obsnme</th>\n",
       "      <th>obsval</th>\n",
       "      <th>weight</th>\n",
       "      <th>obgnme</th>\n",
       "    </tr>\n",
       "  </thead>\n",
       "  <tbody>\n",
       "    <tr>\n",
       "      <th>cha01_20130131</th>\n",
       "      <td>cha01_20130131</td>\n",
       "      <td>1.000000e+10</td>\n",
       "      <td>1.0</td>\n",
       "      <td>obgnme</td>\n",
       "    </tr>\n",
       "    <tr>\n",
       "      <th>cha01_20130228</th>\n",
       "      <td>cha01_20130228</td>\n",
       "      <td>1.000000e+10</td>\n",
       "      <td>1.0</td>\n",
       "      <td>obgnme</td>\n",
       "    </tr>\n",
       "    <tr>\n",
       "      <th>cha01_20130331</th>\n",
       "      <td>cha01_20130331</td>\n",
       "      <td>1.000000e+10</td>\n",
       "      <td>1.0</td>\n",
       "      <td>obgnme</td>\n",
       "    </tr>\n",
       "    <tr>\n",
       "      <th>cha01_20130430</th>\n",
       "      <td>cha01_20130430</td>\n",
       "      <td>1.000000e+10</td>\n",
       "      <td>1.0</td>\n",
       "      <td>obgnme</td>\n",
       "    </tr>\n",
       "    <tr>\n",
       "      <th>cha01_20130531</th>\n",
       "      <td>cha01_20130531</td>\n",
       "      <td>1.000000e+10</td>\n",
       "      <td>1.0</td>\n",
       "      <td>obgnme</td>\n",
       "    </tr>\n",
       "    <tr>\n",
       "      <th>...</th>\n",
       "      <td>...</td>\n",
       "      <td>...</td>\n",
       "      <td>...</td>\n",
       "      <td>...</td>\n",
       "    </tr>\n",
       "    <tr>\n",
       "      <th>cha01_20230731</th>\n",
       "      <td>cha01_20230731</td>\n",
       "      <td>1.000000e+10</td>\n",
       "      <td>1.0</td>\n",
       "      <td>obgnme</td>\n",
       "    </tr>\n",
       "    <tr>\n",
       "      <th>cha01_20230831</th>\n",
       "      <td>cha01_20230831</td>\n",
       "      <td>1.000000e+10</td>\n",
       "      <td>1.0</td>\n",
       "      <td>obgnme</td>\n",
       "    </tr>\n",
       "    <tr>\n",
       "      <th>cha01_20230930</th>\n",
       "      <td>cha01_20230930</td>\n",
       "      <td>1.000000e+10</td>\n",
       "      <td>1.0</td>\n",
       "      <td>obgnme</td>\n",
       "    </tr>\n",
       "    <tr>\n",
       "      <th>cha01_20231031</th>\n",
       "      <td>cha01_20231031</td>\n",
       "      <td>1.000000e+10</td>\n",
       "      <td>1.0</td>\n",
       "      <td>obgnme</td>\n",
       "    </tr>\n",
       "    <tr>\n",
       "      <th>cha01_20231130</th>\n",
       "      <td>cha01_20231130</td>\n",
       "      <td>1.000000e+10</td>\n",
       "      <td>1.0</td>\n",
       "      <td>obgnme</td>\n",
       "    </tr>\n",
       "  </tbody>\n",
       "</table>\n",
       "<p>124 rows × 4 columns</p>\n",
       "</div>"
      ],
      "text/plain": [
       "                        obsnme        obsval  weight  obgnme\n",
       "cha01_20130131  cha01_20130131  1.000000e+10     1.0  obgnme\n",
       "cha01_20130228  cha01_20130228  1.000000e+10     1.0  obgnme\n",
       "cha01_20130331  cha01_20130331  1.000000e+10     1.0  obgnme\n",
       "cha01_20130430  cha01_20130430  1.000000e+10     1.0  obgnme\n",
       "cha01_20130531  cha01_20130531  1.000000e+10     1.0  obgnme\n",
       "...                        ...           ...     ...     ...\n",
       "cha01_20230731  cha01_20230731  1.000000e+10     1.0  obgnme\n",
       "cha01_20230831  cha01_20230831  1.000000e+10     1.0  obgnme\n",
       "cha01_20230930  cha01_20230930  1.000000e+10     1.0  obgnme\n",
       "cha01_20231031  cha01_20231031  1.000000e+10     1.0  obgnme\n",
       "cha01_20231130  cha01_20231130  1.000000e+10     1.0  obgnme\n",
       "\n",
       "[124 rows x 4 columns]"
      ]
     },
     "execution_count": 17,
     "metadata": {},
     "output_type": "execute_result"
    }
   ],
   "source": [
    "# set observation group\n",
    "obd = pst.observation_data\n",
    "obd"
   ]
  },
  {
   "cell_type": "code",
   "execution_count": 18,
   "id": "78f4acaf",
   "metadata": {},
   "outputs": [
    {
     "data": {
      "text/html": [
       "<div>\n",
       "<style scoped>\n",
       "    .dataframe tbody tr th:only-of-type {\n",
       "        vertical-align: middle;\n",
       "    }\n",
       "\n",
       "    .dataframe tbody tr th {\n",
       "        vertical-align: top;\n",
       "    }\n",
       "\n",
       "    .dataframe thead th {\n",
       "        text-align: right;\n",
       "    }\n",
       "</style>\n",
       "<table border=\"1\" class=\"dataframe\">\n",
       "  <thead>\n",
       "    <tr style=\"text-align: right;\">\n",
       "      <th></th>\n",
       "      <th>obsnme</th>\n",
       "      <th>obsval</th>\n",
       "      <th>weight</th>\n",
       "      <th>obgnme</th>\n",
       "    </tr>\n",
       "  </thead>\n",
       "  <tbody>\n",
       "    <tr>\n",
       "      <th>cha01_20130131</th>\n",
       "      <td>cha01_20130131</td>\n",
       "      <td>1.000000e+10</td>\n",
       "      <td>1.0</td>\n",
       "      <td>cha01</td>\n",
       "    </tr>\n",
       "    <tr>\n",
       "      <th>cha01_20130228</th>\n",
       "      <td>cha01_20130228</td>\n",
       "      <td>1.000000e+10</td>\n",
       "      <td>1.0</td>\n",
       "      <td>cha01</td>\n",
       "    </tr>\n",
       "    <tr>\n",
       "      <th>cha01_20130331</th>\n",
       "      <td>cha01_20130331</td>\n",
       "      <td>1.000000e+10</td>\n",
       "      <td>1.0</td>\n",
       "      <td>cha01</td>\n",
       "    </tr>\n",
       "    <tr>\n",
       "      <th>cha01_20130430</th>\n",
       "      <td>cha01_20130430</td>\n",
       "      <td>1.000000e+10</td>\n",
       "      <td>1.0</td>\n",
       "      <td>cha01</td>\n",
       "    </tr>\n",
       "    <tr>\n",
       "      <th>cha01_20130531</th>\n",
       "      <td>cha01_20130531</td>\n",
       "      <td>1.000000e+10</td>\n",
       "      <td>1.0</td>\n",
       "      <td>cha01</td>\n",
       "    </tr>\n",
       "    <tr>\n",
       "      <th>...</th>\n",
       "      <td>...</td>\n",
       "      <td>...</td>\n",
       "      <td>...</td>\n",
       "      <td>...</td>\n",
       "    </tr>\n",
       "    <tr>\n",
       "      <th>cha01_20230731</th>\n",
       "      <td>cha01_20230731</td>\n",
       "      <td>1.000000e+10</td>\n",
       "      <td>1.0</td>\n",
       "      <td>cha01</td>\n",
       "    </tr>\n",
       "    <tr>\n",
       "      <th>cha01_20230831</th>\n",
       "      <td>cha01_20230831</td>\n",
       "      <td>1.000000e+10</td>\n",
       "      <td>1.0</td>\n",
       "      <td>cha01</td>\n",
       "    </tr>\n",
       "    <tr>\n",
       "      <th>cha01_20230930</th>\n",
       "      <td>cha01_20230930</td>\n",
       "      <td>1.000000e+10</td>\n",
       "      <td>1.0</td>\n",
       "      <td>cha01</td>\n",
       "    </tr>\n",
       "    <tr>\n",
       "      <th>cha01_20231031</th>\n",
       "      <td>cha01_20231031</td>\n",
       "      <td>1.000000e+10</td>\n",
       "      <td>1.0</td>\n",
       "      <td>cha01</td>\n",
       "    </tr>\n",
       "    <tr>\n",
       "      <th>cha01_20231130</th>\n",
       "      <td>cha01_20231130</td>\n",
       "      <td>1.000000e+10</td>\n",
       "      <td>1.0</td>\n",
       "      <td>cha01</td>\n",
       "    </tr>\n",
       "  </tbody>\n",
       "</table>\n",
       "<p>124 rows × 4 columns</p>\n",
       "</div>"
      ],
      "text/plain": [
       "                        obsnme        obsval  weight obgnme\n",
       "cha01_20130131  cha01_20130131  1.000000e+10     1.0  cha01\n",
       "cha01_20130228  cha01_20130228  1.000000e+10     1.0  cha01\n",
       "cha01_20130331  cha01_20130331  1.000000e+10     1.0  cha01\n",
       "cha01_20130430  cha01_20130430  1.000000e+10     1.0  cha01\n",
       "cha01_20130531  cha01_20130531  1.000000e+10     1.0  cha01\n",
       "...                        ...           ...     ...    ...\n",
       "cha01_20230731  cha01_20230731  1.000000e+10     1.0  cha01\n",
       "cha01_20230831  cha01_20230831  1.000000e+10     1.0  cha01\n",
       "cha01_20230930  cha01_20230930  1.000000e+10     1.0  cha01\n",
       "cha01_20231031  cha01_20231031  1.000000e+10     1.0  cha01\n",
       "cha01_20231130  cha01_20231130  1.000000e+10     1.0  cha01\n",
       "\n",
       "[124 rows x 4 columns]"
      ]
     },
     "execution_count": 18,
     "metadata": {},
     "output_type": "execute_result"
    }
   ],
   "source": [
    "# Change obd group name\n",
    "for i in range(len(obd)):\n",
    "    obd.iloc[i, 3] = obd.iloc[i, 0][:-9]\n",
    "obd"
   ]
  },
  {
   "cell_type": "markdown",
   "id": "9c68a859",
   "metadata": {},
   "source": [
    "## 05.04 Provide actual observed values to control file"
   ]
  },
  {
   "cell_type": "code",
   "execution_count": 19,
   "id": "6927bc39-c78c-4027-8b05-b4ee17658093",
   "metadata": {},
   "outputs": [
    {
     "data": {
      "text/plain": [
       "'D:\\\\jj\\\\main_opt'"
      ]
     },
     "execution_count": 19,
     "metadata": {},
     "output_type": "execute_result"
    }
   ],
   "source": [
    "os.getcwd()"
   ]
  },
  {
   "cell_type": "code",
   "execution_count": 20,
   "id": "ac9f8086",
   "metadata": {},
   "outputs": [
    {
     "data": {
      "text/html": [
       "<div>\n",
       "<style scoped>\n",
       "    .dataframe tbody tr th:only-of-type {\n",
       "        vertical-align: middle;\n",
       "    }\n",
       "\n",
       "    .dataframe tbody tr th {\n",
       "        vertical-align: top;\n",
       "    }\n",
       "\n",
       "    .dataframe thead th {\n",
       "        text-align: right;\n",
       "    }\n",
       "</style>\n",
       "<table border=\"1\" class=\"dataframe\">\n",
       "  <thead>\n",
       "    <tr style=\"text-align: right;\">\n",
       "      <th></th>\n",
       "      <th>cha01</th>\n",
       "    </tr>\n",
       "    <tr>\n",
       "      <th>date</th>\n",
       "      <th></th>\n",
       "    </tr>\n",
       "  </thead>\n",
       "  <tbody>\n",
       "    <tr>\n",
       "      <th>2013-01-01</th>\n",
       "      <td>1.5</td>\n",
       "    </tr>\n",
       "    <tr>\n",
       "      <th>2013-02-01</th>\n",
       "      <td>2.3</td>\n",
       "    </tr>\n",
       "    <tr>\n",
       "      <th>2013-03-01</th>\n",
       "      <td>2.7</td>\n",
       "    </tr>\n",
       "    <tr>\n",
       "      <th>2013-04-01</th>\n",
       "      <td>1.6</td>\n",
       "    </tr>\n",
       "    <tr>\n",
       "      <th>2013-05-01</th>\n",
       "      <td>2.2</td>\n",
       "    </tr>\n",
       "    <tr>\n",
       "      <th>...</th>\n",
       "      <td>...</td>\n",
       "    </tr>\n",
       "    <tr>\n",
       "      <th>2023-08-01</th>\n",
       "      <td>7.9</td>\n",
       "    </tr>\n",
       "    <tr>\n",
       "      <th>2023-09-01</th>\n",
       "      <td>5.3</td>\n",
       "    </tr>\n",
       "    <tr>\n",
       "      <th>2023-10-01</th>\n",
       "      <td>1.6</td>\n",
       "    </tr>\n",
       "    <tr>\n",
       "      <th>2023-11-01</th>\n",
       "      <td>1.5</td>\n",
       "    </tr>\n",
       "    <tr>\n",
       "      <th>2023-12-01</th>\n",
       "      <td>NaN</td>\n",
       "    </tr>\n",
       "  </tbody>\n",
       "</table>\n",
       "<p>132 rows × 1 columns</p>\n",
       "</div>"
      ],
      "text/plain": [
       "            cha01\n",
       "date             \n",
       "2013-01-01    1.5\n",
       "2013-02-01    2.3\n",
       "2013-03-01    2.7\n",
       "2013-04-01    1.6\n",
       "2013-05-01    2.2\n",
       "...           ...\n",
       "2023-08-01    7.9\n",
       "2023-09-01    5.3\n",
       "2023-10-01    1.6\n",
       "2023-11-01    1.5\n",
       "2023-12-01    NaN\n",
       "\n",
       "[132 rows x 1 columns]"
      ]
     },
     "execution_count": 20,
     "metadata": {},
     "output_type": "execute_result"
    }
   ],
   "source": [
    "# Streamflow\n",
    "stf_obd = pd.read_csv(obd_file,\n",
    "                       index_col = 0,\n",
    "                       parse_dates = True,\n",
    "                       na_values=[-999, '']\n",
    "                     )\n",
    "stf_obd = stf_obd[cal_start: cal_end]\n",
    "stf_obd"
   ]
  },
  {
   "cell_type": "code",
   "execution_count": null,
   "id": "519bf837",
   "metadata": {},
   "outputs": [],
   "source": [
    "# Get sub list based on obd order\n",
    "obd_order = []\n",
    "for i in obd.obgnme.tolist():\n",
    "    if i not in obd_order:\n",
    "        obd_order.append(i)\n",
    "obd_order"
   ]
  },
  {
   "cell_type": "code",
   "execution_count": null,
   "id": "883af98d",
   "metadata": {},
   "outputs": [],
   "source": [
    "# get total list from each sub obd, delete na vals\n",
    "tot_obd = []\n",
    "for i in obd_order[:1]:\n",
    "    tot_obd += dtw_obd[i].dropna().tolist()\n",
    "    print(i)\n",
    "for i in obd_order[1:]:\n",
    "    tot_obd += stf_obd[i].dropna().tolist()\n",
    "    print(i)\n",
    "len(tot_obd)"
   ]
  },
  {
   "cell_type": "code",
   "execution_count": null,
   "id": "41d4fde8",
   "metadata": {},
   "outputs": [],
   "source": [
    "obd.loc[:, 'obsval'] = tot_obd\n",
    "obd"
   ]
  },
  {
   "cell_type": "markdown",
   "id": "617e031f",
   "metadata": {},
   "source": [
    "# 06. Create the control file with settings"
   ]
  },
  {
   "cell_type": "markdown",
   "id": "a1da8190-0fd6-4556-b799-50f5b2f06193",
   "metadata": {},
   "source": [
    "We can inspect all control data values using the `pst.control_data.formatted_values` attribute. Values are assigned defaults if not specified. Nice.:"
   ]
  },
  {
   "cell_type": "code",
   "execution_count": 21,
   "id": "a41cc3a0-c66c-49df-954c-8a9696322347",
   "metadata": {},
   "outputs": [
    {
     "data": {
      "text/plain": [
       "name\n",
       "rstfle                        restart\n",
       "pestmode                   estimation\n",
       "npar                                0\n",
       "nobs                                0\n",
       "npargp                              0\n",
       "nprior                              0\n",
       "nobsgp                              0\n",
       "maxcompdim                          0\n",
       "ntplfle                             0\n",
       "ninsfle                             0\n",
       "precis                         single\n",
       "dpoint                          point\n",
       "numcom                              1\n",
       "jacfile                             0\n",
       "messfile                            0\n",
       "obsreref                   noobsreref\n",
       "rlambda1                 2.000000E+01\n",
       "rlamfac                 -3.000000E+00\n",
       "phiratsuf                3.000000E-01\n",
       "phiredlam                1.000000E-02\n",
       "numlam                             -7\n",
       "jacupdate                         999\n",
       "lamforgive                 lamforgive\n",
       "derforgive               noderforgive\n",
       "relparmax                1.000000E+01\n",
       "facparmax                1.000000E+01\n",
       "facorig                  1.000000E-03\n",
       "iboundstick                         0\n",
       "upvecbend                           0\n",
       "phiredswh                1.000000E-01\n",
       "noptswitch                          1\n",
       "splitswh                 1.100000E+00\n",
       "doaui                           noaui\n",
       "dosenreuse                 nosenreuse\n",
       "boundscale               noboundscale\n",
       "noptmax                            30\n",
       "phiredstp                1.000000E-02\n",
       "nphistp                             3\n",
       "nphinored                           3\n",
       "relparstp                1.000000E-02\n",
       "nrelpar                             3\n",
       "phistopthresh            0.000000E+00\n",
       "lastrun                             1\n",
       "phiabandon              -1.000000E+00\n",
       "icov                                0\n",
       "icor                                0\n",
       "ieig                                0\n",
       "ires                                0\n",
       "jcosave                       jcosave\n",
       "verboserec                 verboserec\n",
       "jcosaveitn                 jcosaveitn\n",
       "reisaveitn                 reisaveitn\n",
       "parsaveitn                 parsaveitn\n",
       "parsaverun               noparsaverun\n",
       "dtype: object"
      ]
     },
     "execution_count": 21,
     "metadata": {},
     "output_type": "execute_result"
    }
   ],
   "source": [
    "pst.control_data.formatted_values"
   ]
  },
  {
   "cell_type": "code",
   "execution_count": 22,
   "id": "e91330b7",
   "metadata": {},
   "outputs": [],
   "source": [
    "pst.control_data.noptmax = 0 # replace 0 with \"zero\" and see what happens\n",
    "pst.model_command = 'python forward_run.py'"
   ]
  },
  {
   "cell_type": "markdown",
   "id": "ea292069-80e8-453b-9459-c2556d513358",
   "metadata": {},
   "source": [
    "- ### add new PEST++ variables like so:"
   ]
  },
  {
   "cell_type": "code",
   "execution_count": 23,
   "id": "1fd0fb95-3fb9-4fcc-8f34-283414f91446",
   "metadata": {},
   "outputs": [
    {
     "data": {
      "text/plain": [
       "{}"
      ]
     },
     "execution_count": 23,
     "metadata": {},
     "output_type": "execute_result"
    }
   ],
   "source": [
    "# check the dictionary again\n",
    "pst.pestpp_options"
   ]
  },
  {
   "cell_type": "code",
   "execution_count": 24,
   "id": "fcc3a4cd",
   "metadata": {},
   "outputs": [
    {
     "name": "stdout",
     "output_type": "stream",
     "text": [
      "noptmax:0, npar_adj:5, nnz_obs:124\n"
     ]
    }
   ],
   "source": [
    "pst.write('swatp_test.pst', version=2)"
   ]
  },
  {
   "cell_type": "markdown",
   "id": "d7994e0f-c25e-41ec-89a6-ce3e64f3f719",
   "metadata": {},
   "source": [
    "- ### You can also read and load the existing pest control file."
   ]
  },
  {
   "cell_type": "code",
   "execution_count": null,
   "id": "3ea71e6d-76b1-4279-805f-0f2adfdeeddc",
   "metadata": {},
   "outputs": [],
   "source": [
    "# pst_read = pyemu.Pst(os.path.join(swatmf_model,\"mb_zon.pst\"))"
   ]
  },
  {
   "cell_type": "code",
   "execution_count": null,
   "id": "b20d8ef8-5bc0-4273-a3d9-1bb05635752b",
   "metadata": {},
   "outputs": [],
   "source": [
    "pst_read.parameter_data"
   ]
  },
  {
   "cell_type": "code",
   "execution_count": null,
   "id": "c2feeeee-d88a-4003-89aa-3825ec0d1aa1",
   "metadata": {},
   "outputs": [],
   "source": []
  }
 ],
 "metadata": {
  "kernelspec": {
   "display_name": "Python 3 (ipykernel)",
   "language": "python",
   "name": "python3"
  },
  "language_info": {
   "codemirror_mode": {
    "name": "ipython",
    "version": 3
   },
   "file_extension": ".py",
   "mimetype": "text/x-python",
   "name": "python",
   "nbconvert_exporter": "python",
   "pygments_lexer": "ipython3",
   "version": "3.10.6"
  }
 },
 "nbformat": 4,
 "nbformat_minor": 5
}
